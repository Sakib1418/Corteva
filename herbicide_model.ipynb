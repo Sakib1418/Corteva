{
 "cells": [
  {
   "cell_type": "code",
   "execution_count": 1,
   "metadata": {},
   "outputs": [],
   "source": [
    "import pandas as pd \n",
    "import numpy as np\n",
    "import math\n",
    "from utlis import *\n",
    "\n",
    "\n",
    "tmp = pd.read_csv('Weed_Resistance_Data.csv', sep = ',', header=None)\n",
    "params_in = list(tmp[:21][0])\n",
    "\n",
    "\n",
    "params_in = np.array(params_in)"
   ]
  },
  {
   "cell_type": "code",
   "execution_count": 14,
   "metadata": {},
   "outputs": [
    {
     "data": {
      "text/plain": [
       "array([[0.723, 0.723, 0.723, 0.723],\n",
       "       [0.723, 0.723, 0.723, 0.723],\n",
       "       [0.723, 0.723, 0.723, 0.723],\n",
       "       [0.723, 0.723, 0.723, 0.723],\n",
       "       [0.723, 0.723, 0.723, 0.723],\n",
       "       [0.723, 0.723, 0.723, 0.723],\n",
       "       [0.723, 0.723, 0.723, 0.723],\n",
       "       [0.723, 0.723, 0.723, 0.723],\n",
       "       [0.723, 0.723, 0.723, 0.723],\n",
       "       [0.723, 0.723, 0.723, 0.723],\n",
       "       [0.723, 0.723, 0.723, 0.723],\n",
       "       [0.723, 0.723, 0.723, 0.723],\n",
       "       [0.723, 0.723, 0.723, 0.723],\n",
       "       [0.723, 0.723, 0.723, 0.723],\n",
       "       [0.723, 0.723, 0.723, 0.723],\n",
       "       [0.723, 0.723, 0.723, 0.723],\n",
       "       [0.723, 0.723, 0.723, 0.723],\n",
       "       [0.723, 0.723, 0.723, 0.723],\n",
       "       [0.723, 0.723, 0.723, 0.723],\n",
       "       [0.723, 0.723, 0.723, 0.723],\n",
       "       [0.723, 0.723, 0.723, 0.723],\n",
       "       [0.723, 0.723, 0.723, 0.723],\n",
       "       [0.723, 0.723, 0.723, 0.723],\n",
       "       [0.723, 0.723, 0.723, 0.723],\n",
       "       [0.723, 0.723, 0.723, 0.723]])"
      ]
     },
     "execution_count": 14,
     "metadata": {},
     "output_type": "execute_result"
    }
   ],
   "source": [
    "Params.SeedProd.weedCompetition"
   ]
  },
  {
   "cell_type": "code",
   "execution_count": 2,
   "metadata": {},
   "outputs": [
    {
     "name": "stdout",
     "output_type": "stream",
     "text": [
      "initial density:  100\n",
      "initial frequency:  [1.e-08 0.e+00 0.e+00 0.e+00]\n",
      "RO time:  1.5\n",
      "CR time:  1.9\n",
      "TR time:  10\n",
      "cohort number 4\n"
     ]
    }
   ],
   "source": [
    "print('initial density: ', Params.Init.Upper.seedDensity)\n",
    "print('initial frequency: ', Params.Init.Upper.ResAlleleFreq)\n",
    "print('RO time: ', Params.General.f_RO)\n",
    "print('CR time: ', Params.General.f_CR)\n",
    "print('TR time: ', Params.General.f_TR)\n",
    "print('cohort number', Params.General.nCohorts)\n"
   ]
  },
  {
   "cell_type": "code",
   "execution_count": 3,
   "metadata": {},
   "outputs": [
    {
     "data": {
      "text/plain": [
       "0.0"
      ]
     },
     "execution_count": 3,
     "metadata": {},
     "output_type": "execute_result"
    }
   ],
   "source": [
    "Params.General.seedDelay"
   ]
  },
  {
   "cell_type": "code",
   "execution_count": 4,
   "metadata": {},
   "outputs": [],
   "source": [
    "General_TillingFrequency = np.loadtxt('Corteva/BMP_Matlab_Code/Tilling_Data.txt')\n",
    "Herbicide_data = np.loadtxt('Corteva/BMP_Matlab_Code/Herbicide_Data.txt')"
   ]
  },
  {
   "cell_type": "code",
   "execution_count": 5,
   "metadata": {},
   "outputs": [],
   "source": [
    "newCult = np.ones_like(Params.Cultivation.survivalFraction)\n",
    "\n",
    "# Params.Cultivation.survivalFraction"
   ]
  },
  {
   "cell_type": "code",
   "execution_count": 6,
   "metadata": {},
   "outputs": [
    {
     "data": {
      "text/plain": [
       "array([0., 0., 0., 0., 0., 0., 0., 0., 0., 0., 0., 0., 0., 0., 0., 0., 0.,\n",
       "       0., 0., 0., 0., 0., 0., 0., 0.])"
      ]
     },
     "execution_count": 6,
     "metadata": {},
     "output_type": "execute_result"
    }
   ],
   "source": [
    "TillingFreq = np.zeros(nYears,)\n",
    "# TillingFreq[7] = 1\n",
    "\n",
    "TillingFreq"
   ]
  },
  {
   "cell_type": "code",
   "execution_count": 7,
   "metadata": {},
   "outputs": [],
   "source": [
    "# herbicide_alter = []\n",
    "# h = [.88,.3,.02]\n",
    "\n",
    "# for i in range(nYears):\n",
    "#     if i % 2 == 0:\n",
    "#         herbicide_alter.append(h)\n",
    "#     else:\n",
    "#         herbicide_alter.append([0,0,0])\n"
   ]
  },
  {
   "cell_type": "code",
   "execution_count": 8,
   "metadata": {},
   "outputs": [],
   "source": [
    "hand_surv = np.ones_like(Params.Hand.survivalFraction)\n",
    "\n",
    "# for i in range(nYears):\n",
    "#     if i % 3 == 0:\n",
    "#         hand_surv[i] = .9\n",
    "#     else:\n",
    "#         hand_surv[i] = .95\n",
    "\n",
    "      "
   ]
  },
  {
   "cell_type": "code",
   "execution_count": 9,
   "metadata": {},
   "outputs": [
    {
     "name": "stdout",
     "output_type": "stream",
     "text": [
      "starting year and cohort are:  25  &  4\n",
      "total fish caught:  20\n"
     ]
    }
   ],
   "source": [
    "from utlis import PrepareParams\n",
    "import numpy as np \n",
    "from scipy import integrate\n",
    "\n",
    "\n",
    "\n",
    "\n",
    "a = 1\n",
    "Params = PrepareParams()\n",
    "\n",
    "nYears = int(Params.General.nYears)\n",
    "nCohorts = int(Params.General.nCohorts)\n",
    "\n",
    "# nYears = 25\n",
    "# nCohorts = 2\n",
    "print(\"starting year and cohort are: \", nYears, \" & \", nCohorts)\n",
    "\n",
    "H1_eff = [.8,.2,.07]\n",
    "H2_eff = [.8,.2,.07]\n",
    "H3_eff = [0,0,0]\n",
    "H4_eff = [0,0,0]\n",
    "\n",
    "strat = []\n",
    "overall = []\n",
    "risk_integral_all = []\n",
    "seedbank_plot = []\n",
    "\n",
    "\n",
    "for i in range(50):\n",
    "    Population.seedBank = np.zeros((nYears,nGeno,nCohorts))\n",
    "    # %Lower seed bank density\n",
    "    Population.lowerBank = np.zeros((nYears,nGeno))\n",
    "    # %immigrant seed\n",
    "    Population.immSeed = np.zeros((nYears,nGeno,nCohorts))\n",
    "    # %emigrant seed\n",
    "    Population.emSeed = np.zeros((nYears,nGeno,nCohorts))\n",
    "    # %germination storage\n",
    "    Population.germination = np.zeros((nYears,nGeno,nCohorts))\n",
    "    # %ungerminated storage\n",
    "    Population.ungerminated = np.zeros((nYears,nGeno,nCohorts))\n",
    "    Population.herbicide1 = np.zeros((nYears,nGeno,nCohorts))\n",
    "    Population.herbicide2 = np.zeros((nYears,nGeno,nCohorts))\n",
    "    Population.herbicide3 = np.zeros((nYears,nGeno,nCohorts))\n",
    "    Population.herbicide4 = np.zeros((nYears,nGeno,nCohorts))\n",
    "    Population.seedProd = np.zeros((nYears,nGeno,nCohorts))\n",
    "    Population.mature = np.zeros((nYears,nGeno,nCohorts))\n",
    "    Population.hand = np.zeros((nYears,nGeno,nCohorts))\n",
    "    Population.immPol = np.zeros((nYears,nGeno,nCohorts))\n",
    "    Population.emPol = np.zeros((nYears,nGeno,nCohorts))\n",
    "    Population.newSeed = np.zeros((nYears,nGeno,nCohorts))\n",
    "    Population.mutated = np.zeros((nYears,nGeno,nCohorts))\n",
    "    Population.predation = np.zeros((nYears,nGeno,nCohorts))\n",
    "    Population.winter = np.zeros((nYears,nGeno))\n",
    "    Population.Res = np.zeros((1, 3))\n",
    "    Population.seedBank[0,:,0] = Params.General.UpperSeedBank\n",
    "    Population.lowerBank[0,:] = Params.General.LowerSeedBank\n",
    "\n",
    "    for y in range(nYears):\n",
    "        tempSeedBank = np.zeros(81)\n",
    "        Population.seedBank[y,:,0],Population.lowerBank[y,:] = deepTill(Population.seedBank[y,:,0],\n",
    "                                                                    Population.lowerBank[y,:],\n",
    "                                                                    TillingFreq,y)\n",
    "\n",
    "        for c in range(nCohorts):\n",
    "            # print(\" y : \", y, \" c\", c)\n",
    "            \n",
    "            ImmSeed = seedImmigration(nGeno)\n",
    "            seedBank = Population.seedBank[y,:,c]+ ImmSeed\n",
    "            seedBank = extinction(seedBank,fieldSize)\n",
    "            fGerm = Params.Germination.survivalFraction[0,0]\n",
    "            germination = survival(seedBank,fGerm)\n",
    "            ungerminated = seedBank - germination\n",
    "            germination = extinction(germination,fieldSize)\n",
    "            # fCult = Params.Cultivation.survivalFraction[y,c]\n",
    "            fCult = newCult[y,c]\n",
    "            cult = survival(germination,fCult)\n",
    "            cult = extinction(cult,fieldSize)\n",
    "\n",
    "            # fSS = 1 - Params.Herbicide1.efficacy_SS[0,0]\n",
    "            # fRS = 1 - Params.Herbicide1.efficacy_RS[0,0]\n",
    "            # fRR = 1 - Params.Herbicide1.efficacy_RR[0,0]\n",
    "\n",
    "            fSS = 1 - H1_eff[0]\n",
    "            fRS = 1 - H1_eff[1]\n",
    "            fRR = 1 - H1_eff[2]\n",
    "            # fSS = 1 - herbicide_alter[y][0]\n",
    "            # fRS = 1 - herbicide_alter[y][1]\n",
    "            # fRR = 1 - herbicide_alter[y][2]\n",
    "            # if y == 24:\n",
    "            #     print('year: ',y,'herbicide efficacy: ',[fSS,fRS,fRR])\n",
    "\n",
    "            targetLocus = Params.Herbicide1.targetLocus\n",
    "\n",
    "            herbicide1_ = selectiveSurvival(cult,[fSS,fRS,fRR],targetLocus,Params.key)\n",
    "\n",
    "            herbicide1 = extinction(herbicide1_,fieldSize)\n",
    "\n",
    "            # fSS = 1 - Params.Herbicide2.efficacy_SS[y,c]\n",
    "            # fRS = 1 - Params.Herbicide2.efficacy_RS[y,c]\n",
    "            # fRR = 1 - Params.Herbicide2.efficacy_RR[y,c]\n",
    "\n",
    "            fSS = 1 - H2_eff[0]\n",
    "            fRS = 1 - H2_eff[1]\n",
    "            fRR = 1 - H2_eff[2]\n",
    "\n",
    "            targetLocus = Params.Herbicide2.targetLocus\n",
    "\n",
    "            herbicide2 = selectiveSurvival(herbicide1,[fSS,fRS,fRR],targetLocus,Params.key)\n",
    "                    \n",
    "            herbicide2 = extinction(herbicide2,fieldSize)\n",
    "\n",
    "            fSS = 1 - H3_eff[0]\n",
    "            fRS = 1 - H3_eff[1]\n",
    "            fRR = 1 - H3_eff[2]\n",
    "\n",
    "            targetLocus = Params.Herbicide3.targetLocus\n",
    "\n",
    "            herbicide3 = selectiveSurvival(herbicide2,[fSS,fRS,fRR],targetLocus,Params.key)\n",
    "            herbicide3 = extinction(herbicide3,fieldSize)\n",
    "\n",
    "            fSS = 1 - H4_eff[0]\n",
    "            fRS = 1 - H4_eff[1]\n",
    "            fRR = 1 - H4_eff[2]\n",
    "\n",
    "            targetLocus = Params.Herbicide4.targetLocus\n",
    "\n",
    "            herbicide4 = selectiveSurvival(herbicide3,[fSS,fRS,fRR],targetLocus,Params.key)\n",
    "            herbicide4 = extinction(herbicide4,fieldSize)\n",
    "\n",
    "            A = Params.Mature.maxplants[y,c]\n",
    "            B = Params.Mature.cropParam[y,c]\n",
    "            C = Params.Mature.weedCompetition[y,c]\n",
    "\n",
    "            mature = competition(herbicide4,A,B,C)\n",
    "            mature = extinction(mature,fieldSize)\n",
    "            fHand = hand_surv[y,c]\n",
    "\n",
    "            hand = survival(mature,fHand)\n",
    "            hand = extinction(hand,fieldSize)\n",
    "            \n",
    "            A = Params.SeedProd.maxyield[y,c]\n",
    "            B = Params.SeedProd.cropParam[y,c]\n",
    "            C = Params.SeedProd.weedCompetition[y,c]\n",
    "\n",
    "            sum_hand = float(np.sum(hand))\n",
    "            seedYield = competition(sum_hand,A,B,C)\n",
    "            \n",
    "            newFrac = mating(hand,Params.General.selfingCoeff, Params.key)\n",
    "            seedProd= newFrac*seedYield*Params.General.femaleFrac\n",
    "            seedProd = extinction(seedProd,fieldSize)\n",
    "\n",
    "            targetLocus = 1\n",
    "            muS2R = Params.Mutation.muS2R_locus1[y,c]\n",
    "            muR2S = Params.Mutation.muR2S_locus1[y,c]\n",
    "        \n",
    "            if muS2R==0 and muR2S==0:\n",
    "                mutated_locus1 = seedProd\n",
    "            else:\n",
    "                mutated_locus1 = mutation(seedProd,muS2R,muR2S,targetLocus,Params.key)\n",
    "                mutated_locus1 = extinction(mutated_locus1,fieldSize)\n",
    "\n",
    "            targetLocus = 2\n",
    "            muS2R = Params.Mutation.muS2R_locus2[y,c]\n",
    "            muR2S = Params.Mutation.muR2S_locus2[y,c]\n",
    "\n",
    "            if muS2R==0 and muR2S==0:\n",
    "                mutated_locus2 = mutated_locus1\n",
    "            else:\n",
    "                mutated_locus2 = mutation(mutated_locus1,muS2R,muR2S,targetLocus,Params.key)\n",
    "                mutated_locus2 = extinction(mutated_locus2,fieldSize)\n",
    "\n",
    "            targetLocus = 3\n",
    "            muS2R = Params.Mutation.muS2R_locus3[y,c]\n",
    "            muR2S = Params.Mutation.muR2S_locus3[y,c]\n",
    "\n",
    "            if muS2R==0 and muR2S==0:\n",
    "                mutated_locus3 = mutated_locus2\n",
    "            else:\n",
    "                mutated_locus3 = mutation(mutated_locus2,muS2R,muR2S,targetLocus,Params.key)\n",
    "                mutated_locus3 = extinction(mutated_locus3,fieldSize)\n",
    "\n",
    "            targetLocus = 4\n",
    "            muS2R = Params.Mutation.muS2R_locus4[y,c]\n",
    "            muR2S = Params.Mutation.muR2S_locus4[y,c]\n",
    "\n",
    "            if muS2R==0 and muR2S==0:\n",
    "                mutated_locus4 = mutated_locus3\n",
    "            else:\n",
    "                mutated_locus4 = mutation(mutated_locus3,muS2R,muR2S,targetLocus,Params.key)\n",
    "                mutated_locus4 = extinction(mutated_locus4,fieldSize)\n",
    "\n",
    "            fPred = Params.Predation.survivalFraction[y,c]\n",
    "            predation = survival(mutated_locus4,fPred)\n",
    "            predation = extinction(predation,fieldSize)\n",
    "\n",
    "\n",
    "            # print(predation) \n",
    "            if Params.General.seedDelay == 0:\n",
    "                if c < nCohorts-1:\n",
    "                    Population.seedBank[y,:,c+1] = Population.seedBank[y,:,c+1] + predation + ungerminated\n",
    "                else:\n",
    "                    tempSeedBank = tempSeedBank + ungerminated + predation\n",
    "            else:\n",
    "                tempSeedBank = tempSeedBank + predation\n",
    "                if c < nCohorts-1:\n",
    "\n",
    "                    Population.seedBank[y,:,c+1] = Population.seedBank[y,:,c+1] + ungerminated\n",
    "                else:\n",
    "                    tempSeedBank = tempSeedBank + ungerminated\n",
    "\n",
    "            Population.immSeed[y,:,c] = ImmSeed\n",
    "            Population.ungerminated[y,:,c] = ungerminated\n",
    "            Population.germination[y,:,c] = germination\n",
    "            Population.herbicide1[y,:,c] = herbicide1\n",
    "            Population.herbicide2[y,:,c] = herbicide2\n",
    "            # Population.herbicide3[y,:,c] = herbicide3\n",
    "            # Population.herbicide4[y,:,c] = herbicide4\n",
    "            Population.mature[y,:,c] = mature\n",
    "            Population.hand[y,:,c] = hand\n",
    "            Population.seedProd[y,:,c] = seedProd\n",
    "            Population.predation[y,:,c] = predation\n",
    "            \n",
    "        if y != nYears-1:\n",
    "            fWint_upper = Params.Winter.uppersurvivalFraction[y][c]\n",
    "            fWint_lower = Params.Winter.lowersurvivalFraction[y][c]\n",
    "\n",
    "            winter_ = survival(tempSeedBank,fWint_upper)\n",
    "            winter = extinction(winter_,fieldSize)\n",
    "\n",
    "            Population.winter[y,:] = winter\n",
    "            Population.seedBank[y+1,:,0] = Population.seedBank[y+1,:,0] + winter\n",
    "            Population.lowerBank[y+1,:] = survival(Population.lowerBank[y,:],fWint_lower)\n",
    "            Population.lowerBank[y+1,:] = extinction(Population.lowerBank[y+1,:],fieldSize)\n",
    "\n",
    "        else:\n",
    "            break\n",
    "        N = nYears*nCohorts\n",
    "\n",
    "    newPop = np.zeros((N,nGeno))\n",
    "\n",
    "    k = 0\n",
    "    for y in range(nYears):\n",
    "        for c in range(nCohorts):\n",
    "            newPop[k,:] = Population.seedBank[y,:,c]\n",
    "            k = k + 1\n",
    "\n",
    "\n",
    "    Rpop = np.zeros(nYears*nCohorts,)\n",
    "    for G in range(nGeno):\n",
    "        for L in range(nLoci):\n",
    "            if Params.key[L,G] == 2 or Params.key[L,G] == 1:\n",
    "                Rpop =  Rpop + newPop[:,G]\n",
    "                break\n",
    "\n",
    "    pltPop = Rpop/np.sum(newPop, axis=1)\n",
    "    # print(pltPop.shape)\n",
    "    ri = integrate.trapezoid(pltPop)/N\n",
    "    \n",
    "    if sum(pltPop) > .2:\n",
    "        strat.append(pltPop)\n",
    "        overall.append(pltPop)\n",
    "        seedbank_plot.append(np.sum(newPop, axis=1))\n",
    "\n",
    "        \n",
    "\n",
    "        if math.isnan(ri) == True:\n",
    "            risk_integral_all.append(0)\n",
    "        else: \n",
    "            risk_integral_all.append(ri)\n",
    "\n",
    "        \n",
    "        a+=1\n",
    "        if a % 20 == 0 or i == 999:\n",
    "            print(\"total fish caught: \", a)\n",
    "    else:\n",
    "        overall.append(pltPop)\n",
    "\n",
    "        seedbank_plot.append(np.sum(newPop, axis=1))\n",
    "\n",
    "        if math.isnan(ri) == True:\n",
    "            risk_integral_all.append(0)\n",
    "        else: \n",
    "            risk_integral_all.append(ri)\n",
    "\n",
    "mean_frac_res = np.mean(strat, axis=0)\n",
    "std_frac_res = np.std(strat, axis=0)\n",
    "\n",
    "total_pop = np.mean(np.array(seedbank_plot), axis = 0)\n",
    "\n",
    "non_zero_fracs = len(strat)/len(overall)\n",
    "risk_integral = np.mean(np.array([i for i in risk_integral_all]))"
   ]
  },
  {
   "cell_type": "code",
   "execution_count": 10,
   "metadata": {},
   "outputs": [
    {
     "data": {
      "text/plain": [
       "[<matplotlib.lines.Line2D at 0x1c75edf3460>]"
      ]
     },
     "execution_count": 10,
     "metadata": {},
     "output_type": "execute_result"
    },
    {
     "data": {
      "image/png": "[encoded data removed]",
      "text/plain": [
       "<Figure size 432x288 with 1 Axes>"
      ]
     },
     "metadata": {
      "needs_background": "light"
     },
     "output_type": "display_data"
    },
    {
     "data": {
      "image/png": "[encoded data removed]",
      "text/plain": [
       "<Figure size 432x288 with 1 Axes>"
      ]
     },
     "metadata": {
      "needs_background": "light"
     },
     "output_type": "display_data"
    }
   ],
   "source": [
    "import matplotlib.pyplot as plt \n",
    "\n",
    "time = np.array([i for i in range(len(mean_frac_res))])/nCohorts\n",
    "\n",
    "\n",
    "lower = mean_frac_res - std_frac_res\n",
    "upper = mean_frac_res + std_frac_res\n",
    "plt.figure()\n",
    "plt.fill_between(time, lower, upper, alpha=.3)\n",
    "plt.plot(time,mean_frac_res)\n",
    "\n",
    "\n",
    "plt.figure()\n",
    "plt.plot(time,total_pop, marker = '^')\n",
    "\n",
    "\n",
    "# plt.plot(time,total_pop)\n"
   ]
  },
  {
   "cell_type": "code",
   "execution_count": 11,
   "metadata": {},
   "outputs": [
    {
     "data": {
      "text/plain": [
       "{'mean_frac_res': array([1.99999999e-08, 2.19496244e-05, 8.63632951e-05, 3.09562988e-04,\n",
       "        7.78566779e-04, 1.77778473e-03, 3.40061065e-03, 5.78369092e-03,\n",
       "        9.02130390e-03, 1.44809318e-02, 2.12163103e-02, 2.89442821e-02,\n",
       "        3.73249432e-02, 4.90537927e-02, 6.06356775e-02, 7.17270284e-02,\n",
       "        8.21771304e-02, 9.54248744e-02, 1.07278898e-01, 1.17971999e-01,\n",
       "        1.27732882e-01, 1.40007375e-01, 1.51052520e-01, 1.61236701e-01,\n",
       "        1.70809707e-01, 1.83235414e-01, 1.94810463e-01, 2.05735630e-01,\n",
       "        2.16134331e-01, 2.29709449e-01, 2.42375708e-01, 2.54355156e-01,\n",
       "        2.65833616e-01, 2.81008686e-01, 2.95486695e-01, 3.09521157e-01,\n",
       "        3.23270448e-01, 3.41760091e-01, 3.59633818e-01, 3.77006862e-01,\n",
       "        3.93943696e-01, 4.16500016e-01, 4.37925683e-01, 4.58331671e-01,\n",
       "        4.77800412e-01, 5.03169842e-01, 5.26580323e-01, 5.48279370e-01,\n",
       "        5.68470713e-01, 5.94190488e-01, 6.17271381e-01, 6.38145120e-01,\n",
       "        6.57143658e-01, 6.80860525e-01, 7.01611649e-01, 7.19953774e-01,\n",
       "        7.36304434e-01, 7.56335802e-01, 7.73466404e-01, 7.88318541e-01,\n",
       "        8.01344962e-01, 8.17089235e-01, 8.30349628e-01, 8.41711020e-01,\n",
       "        8.51583832e-01, 8.63429814e-01, 8.73329092e-01, 8.81762356e-01,\n",
       "        8.89059777e-01, 8.97788401e-01, 9.05060115e-01, 9.11242679e-01,\n",
       "        9.16586016e-01, 9.22973100e-01, 9.28292550e-01, 9.32816235e-01,\n",
       "        9.36728026e-01, 9.41407635e-01, 9.45310368e-01, 9.48634331e-01,\n",
       "        9.51513300e-01, 9.54963064e-01, 9.57846908e-01, 9.60308720e-01,\n",
       "        9.62445692e-01, 9.65011856e-01, 9.67163297e-01, 9.69004874e-01,\n",
       "        9.70607515e-01, 9.72536645e-01, 9.74159135e-01, 9.75551958e-01,\n",
       "        9.76767296e-01, 9.78233840e-01, 9.79471252e-01, 9.80536589e-01,\n",
       "        9.81468628e-01, 9.82596050e-01, 9.83550314e-01, 9.84374179e-01]),\n",
       " 'std_frac_res': array([0.00000000e+00, 4.07356609e-05, 1.59595009e-04, 5.71834431e-04,\n",
       "        1.43717571e-03, 3.27676493e-03, 6.25075723e-03, 1.05869412e-02,\n",
       "        1.64220907e-02, 2.61546390e-02, 3.79901202e-02, 5.13963384e-02,\n",
       "        6.57842739e-02, 8.57638979e-02, 1.05311592e-01, 1.23862154e-01,\n",
       "        1.41155206e-01, 1.62791615e-01, 1.81694932e-01, 1.98210238e-01,\n",
       "        2.12678066e-01, 2.29981912e-01, 2.44335587e-01, 2.56395355e-01,\n",
       "        2.66660548e-01, 2.78753336e-01, 2.88674332e-01, 2.97047193e-01,\n",
       "        3.04279944e-01, 3.13008450e-01, 3.20300152e-01, 3.26448942e-01,\n",
       "        3.31622366e-01, 3.37563470e-01, 3.41986031e-01, 3.45136929e-01,\n",
       "        3.47220279e-01, 3.48911836e-01, 3.49231700e-01, 3.48494008e-01,\n",
       "        3.46917960e-01, 3.43925472e-01, 3.40000911e-01, 3.35391470e-01,\n",
       "        3.30270755e-01, 3.22839048e-01, 3.15032469e-01, 3.07006084e-01,\n",
       "        2.98856735e-01, 2.87716475e-01, 2.76771676e-01, 2.66078301e-01,\n",
       "        2.55674700e-01, 2.41943578e-01, 2.29096607e-01, 2.17109492e-01,\n",
       "        2.05945555e-01, 1.91781785e-01, 1.79188682e-01, 1.67945304e-01,\n",
       "        1.57859663e-01, 1.45456977e-01, 1.34817452e-01, 1.25580861e-01,\n",
       "        1.17477332e-01, 1.07686724e-01, 9.94500995e-02, 9.24042621e-02,\n",
       "        8.62929290e-02, 7.89750895e-02, 7.28782522e-02, 6.77001747e-02,\n",
       "        6.32331730e-02, 5.79063547e-02, 5.34873519e-02, 4.97454137e-02,\n",
       "        4.65239728e-02, 4.26877947e-02, 3.95090827e-02, 3.68187531e-02,\n",
       "        3.45027692e-02, 3.17440929e-02, 2.94564828e-02, 2.75183570e-02,\n",
       "        2.58479164e-02, 2.38555706e-02, 2.22001848e-02, 2.07949039e-02,\n",
       "        1.95813127e-02, 1.81310132e-02, 1.69227238e-02, 1.58943411e-02,\n",
       "        1.50040555e-02, 1.39376232e-02, 1.30463489e-02, 1.22855752e-02,\n",
       "        1.16251816e-02, 1.08321180e-02, 1.01670975e-02, 9.59772649e-03]),\n",
       " 'total_pop': array([1.00000000e+02, 4.29251722e+03, 1.59667317e+05, 1.10697603e+06,\n",
       "        1.49733816e+06, 2.51655669e+06, 3.49255921e+06, 4.42297898e+06,\n",
       "        3.71604529e+06, 4.63583359e+06, 5.51120006e+06, 6.34381034e+06,\n",
       "        4.99484734e+06, 5.85280338e+06, 6.66872198e+06, 7.44445532e+06,\n",
       "        5.72729954e+06, 6.54945803e+06, 7.33113481e+06, 8.07419139e+06,\n",
       "        6.14631638e+06, 6.94792104e+06, 7.70997367e+06, 8.43432440e+06,\n",
       "        6.38594035e+06, 7.17579696e+06, 7.92664273e+06, 8.64031558e+06,\n",
       "        6.52301754e+06, 7.30618542e+06, 8.05064862e+06, 8.75823832e+06,\n",
       "        6.60150842e+06, 7.38088496e+06, 8.12173062e+06, 8.82587366e+06,\n",
       "        6.64655648e+06, 7.42381759e+06, 8.16264349e+06, 8.86485979e+06,\n",
       "        6.67256072e+06, 7.44867291e+06, 8.18639368e+06, 8.88754845e+06,\n",
       "        6.68772974e+06, 7.46323575e+06, 8.20036217e+06, 8.90093698e+06,\n",
       "        6.69670705e+06, 7.47189937e+06, 8.20870752e+06, 8.90896401e+06,\n",
       "        6.70210526e+06, 7.47713526e+06, 8.21377036e+06, 8.91384792e+06,\n",
       "        6.70539699e+06, 7.48033887e+06, 8.21687480e+06, 8.91684679e+06,\n",
       "        6.70742002e+06, 7.48231009e+06, 8.21878630e+06, 8.91869412e+06,\n",
       "        6.70866668e+06, 7.48352569e+06, 8.21996585e+06, 8.91983486e+06,\n",
       "        6.70943705e+06, 7.48427795e+06, 8.22069685e+06, 8.92054277e+06,\n",
       "        6.70991575e+06, 7.48474662e+06, 8.22115334e+06, 8.92098580e+06,\n",
       "        6.71021594e+06, 7.48504163e+06, 8.22144163e+06, 8.92126643e+06,\n",
       "        6.71040661e+06, 7.48522996e+06, 8.22162647e+06, 8.92144704e+06,\n",
       "        6.71052974e+06, 7.48535235e+06, 8.22174725e+06, 8.92156562e+06,\n",
       "        6.71061093e+06, 7.48543366e+06, 8.22182800e+06, 8.92164533e+06,\n",
       "        6.71066576e+06, 7.48548906e+06, 8.22188341e+06, 8.92170037e+06,\n",
       "        6.71070383e+06, 7.48552790e+06, 8.22192256e+06, 8.92173951e+06]),\n",
       " 'non_zero_frac': 0.4,\n",
       " 'risk_integral': 0.21722063652021095}"
      ]
     },
     "execution_count": 11,
     "metadata": {},
     "output_type": "execute_result"
    }
   ],
   "source": [
    "result_dict = {}\n",
    "\n",
    "avg_std = {}\n",
    "avg_std['mean_frac_res'] = mean_frac_res\n",
    "avg_std['std_frac_res'] = std_frac_res\n",
    "avg_std['total_pop'] = total_pop\n",
    "avg_std['non_zero_frac'] = non_zero_fracs\n",
    "avg_std['risk_integral'] = risk_integral\n",
    "\n",
    "\n",
    "avg_std"
   ]
  },
  {
   "cell_type": "code",
   "execution_count": 12,
   "metadata": {},
   "outputs": [],
   "source": [
    "import pickle as pkl\n",
    "\n",
    "\n",
    "## write the python object (dict) to pickle file\n",
    "pkl.dump( avg_std, open( \"without_seed_delay.pkl\", \"wb\" ) )"
   ]
  },
  {
   "cell_type": "code",
   "execution_count": 11,
   "metadata": {},
   "outputs": [
    {
     "data": {
      "text/plain": [
       "{'x755_25_tilling': {'mean_frac_res': array([1.99999999e-08, 1.89019568e-04, 3.77357417e-04, 7.23032743e-04,\n",
       "         1.14167505e-03, 1.66688101e-03, 2.33779779e-03, 7.14285714e-01,\n",
       "         7.85714827e-01, 7.14285716e-01, 7.14285499e-01, 7.14285498e-01,\n",
       "         7.14285498e-01, 6.78571321e-01, 6.78571213e-01, 6.78571213e-01,\n",
       "         6.78571213e-01, 6.78571213e-01, 6.78571213e-01, 6.78571213e-01,\n",
       "         6.78571213e-01, 6.78571213e-01, 6.78571213e-01, 6.78571213e-01,\n",
       "         6.78571213e-01]),\n",
       "  'std_frac_res': array([0.        , 0.000463  , 0.00092433, 0.00177106, 0.00279652,\n",
       "         0.00408301, 0.00572641, 0.24743583, 0.33881397, 0.31134992,\n",
       "         0.3113499 , 0.3113499 , 0.3113499 , 0.2901442 , 0.29014418,\n",
       "         0.29014418, 0.29014418, 0.29014418, 0.29014418, 0.29014418,\n",
       "         0.29014418, 0.29014418, 0.29014418, 0.29014418, 0.29014418]),\n",
       "  'total_pop': array([1.00000000e+00, 3.32353130e+02, 9.68409015e+04, 8.25312190e+05,\n",
       "         1.32598523e+06, 1.65976644e+06, 1.88200792e+06, 1.36000000e-06,\n",
       "         1.76087209e-02, 5.86241241e+00, 1.89039724e+03, 5.89056112e+04,\n",
       "         1.30613467e+05, 2.08516541e+05, 2.63113685e+05, 2.99957269e+05,\n",
       "         3.38188089e+05, 3.64985029e+05, 3.82833447e+05, 3.94713347e+05,\n",
       "         4.02619075e+05, 4.07879662e+05, 4.11379976e+05, 4.13708972e+05,\n",
       "         4.15258586e+05]),\n",
       "  'non_zero_frac': 0.14,\n",
       "  'risk_integral': 0.06817206680262956}}"
      ]
     },
     "execution_count": 11,
     "metadata": {},
     "output_type": "execute_result"
    }
   ],
   "source": [
    "import pickle as pkl\n",
    "\n",
    "pkl.load(open('./x755_25_tilling.pkl', 'rb'))"
   ]
  }
 ],
 "metadata": {
  "kernelspec": {
   "display_name": "Python 3",
   "language": "python",
   "name": "python3"
  },
  "language_info": {
   "codemirror_mode": {
    "name": "ipython",
    "version": 3
   },
   "file_extension": ".py",
   "mimetype": "text/x-python",
   "name": "python",
   "nbconvert_exporter": "python",
   "pygments_lexer": "ipython3",
   "version": "3.9.12"
  },
  "orig_nbformat": 4,
  "vscode": {
   "interpreter": {
    "hash": "e7370f93d1d0cde622a1f8e1c04877d8463912d04d973331ad4851f04de6915a"
   }
  }
 },
 "nbformat": 4,
 "nbformat_minor": 2
}
