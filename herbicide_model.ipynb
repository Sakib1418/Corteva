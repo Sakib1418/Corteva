{
 "cells": [
  {
   "cell_type": "code",
   "execution_count": 1,
   "metadata": {},
   "outputs": [],
   "source": [
    "import pandas as pd \n",
    "import numpy as np\n",
    "import math\n",
    "from utlis import *\n",
    "\n",
    "\n",
    "tmp = pd.read_csv('Weed_Resistance_Data.csv', sep = ',', header=None)\n",
    "params_in = list(tmp[:21][0])\n",
    "\n",
    "\n",
    "params_in = np.array(params_in)"
   ]
  },
  {
   "cell_type": "code",
   "execution_count": 2,
   "metadata": {},
   "outputs": [],
   "source": [
    "General_TillingFrequency = np.loadtxt('Corteva/BMP_Matlab_Code/Tilling_Data.txt')\n",
    "Herbicide_data = np.loadtxt('Corteva/BMP_Matlab_Code/Herbicide_Data.txt')"
   ]
  },
  {
   "cell_type": "code",
   "execution_count": null,
   "metadata": {},
   "outputs": [],
   "source": []
  },
  {
   "cell_type": "code",
   "execution_count": 3,
   "metadata": {},
   "outputs": [
    {
     "name": "stdout",
     "output_type": "stream",
     "text": [
      "starting year and cohort are:  25  &  2\n"
     ]
    }
   ],
   "source": [
    "from utlis import PrepareParams\n",
    "import numpy as np \n",
    "from scipy import integrate\n",
    "\n",
    "\n",
    "\n",
    "\n",
    "a = 1\n",
    "Params = PrepareParams()\n",
    "\n",
    "nYears = int(Params.General.nYears)\n",
    "nCohorts = int(Params.General.nCohorts)\n",
    "\n",
    "# nYears = 25\n",
    "# nCohorts = 2\n",
    "print(\"starting year and cohort are: \", nYears, \" & \", nCohorts)\n",
    "\n",
    "H1_eff = [.5,.2,.01]\n",
    "H2_eff = [0,0,0]\n",
    "H3_eff = [0,0,0]\n",
    "H4_eff = [0,0,0]\n",
    "\n",
    "strategies = []\n",
    "overall = []\n",
    "risk_integral_all = []\n",
    "seedbank_plot = []\n",
    "\n",
    "\n",
    "for i in range(50):\n",
    "    Population.seedBank = np.zeros((nYears,nGeno,nCohorts))\n",
    "    # %Lower seed bank density\n",
    "    Population.lowerBank = np.zeros((nYears,nGeno))\n",
    "    # %immigrant seed\n",
    "    Population.immSeed = np.zeros((nYears,nGeno,nCohorts))\n",
    "    # %emigrant seed\n",
    "    Population.emSeed = np.zeros((nYears,nGeno,nCohorts))\n",
    "    # %germination storage\n",
    "    Population.germination = np.zeros((nYears,nGeno,nCohorts))\n",
    "    # %ungerminated storage\n",
    "    Population.ungerminated = np.zeros((nYears,nGeno,nCohorts))\n",
    "    Population.herbicide1 = np.zeros((nYears,nGeno,nCohorts))\n",
    "    Population.herbicide2 = np.zeros((nYears,nGeno,nCohorts))\n",
    "    Population.herbicide3 = np.zeros((nYears,nGeno,nCohorts))\n",
    "    Population.herbicide4 = np.zeros((nYears,nGeno,nCohorts))\n",
    "    Population.seedProd = np.zeros((nYears,nGeno,nCohorts))\n",
    "    Population.mature = np.zeros((nYears,nGeno,nCohorts))\n",
    "    Population.hand = np.zeros((nYears,nGeno,nCohorts))\n",
    "    Population.immPol = np.zeros((nYears,nGeno,nCohorts))\n",
    "    Population.emPol = np.zeros((nYears,nGeno,nCohorts))\n",
    "    Population.newSeed = np.zeros((nYears,nGeno,nCohorts))\n",
    "    Population.mutated = np.zeros((nYears,nGeno,nCohorts))\n",
    "    Population.predation = np.zeros((nYears,nGeno,nCohorts))\n",
    "    Population.winter = np.zeros((nYears,nGeno))\n",
    "    Population.Res = np.zeros((1, 3))\n",
    "    Population.seedBank[0,:,0] = Params.General.UpperSeedBank\n",
    "    Population.lowerBank[0,:] = Params.General.LowerSeedBank\n",
    "\n",
    "    for y in range(nYears):\n",
    "        tempSeedBank = np.zeros(81)\n",
    "        Population.seedBank[y,:,0],Population.lowerBank[y,:] = deepTill(Population.seedBank[y,:,0],\n",
    "                                                                    Population.lowerBank[y,:],\n",
    "                                                                    Params.General.TillingFreq,y)\n",
    "\n",
    "        for c in range(nCohorts):\n",
    "            # print(\" y : \", y, \" c\", c)\n",
    "            \n",
    "            ImmSeed = seedImmigration(nGeno)\n",
    "            seedBank = Population.seedBank[y,:,c]+ ImmSeed\n",
    "            seedBank = extinction(seedBank,fieldSize)\n",
    "            fGerm = Params.Germination.survivalFraction[0,0]\n",
    "            germination = survival(seedBank,fGerm)\n",
    "            ungerminated = seedBank - germination\n",
    "            germination = extinction(germination,fieldSize)\n",
    "            fCult = Params.Cultivation.survivalFraction[y,c]\n",
    "            cult = survival(germination,fCult)\n",
    "            cult = extinction(cult,fieldSize)\n",
    "\n",
    "            # fSS = 1 - Params.Herbicide1.efficacy_SS[0,0]\n",
    "            # fRS = 1 - Params.Herbicide1.efficacy_RS[0,0]\n",
    "            # fRR = 1 - Params.Herbicide1.efficacy_RR[0,0]\n",
    "\n",
    "            fSS = 1 - (H1_eff[0] + .011*nYears)\n",
    "            fRS = 1 - (H1_eff[1] + .011*nYears)\n",
    "            fRR = 1 - (H1_eff[2] + .011*nYears)\n",
    "\n",
    "            targetLocus = Params.Herbicide1.targetLocus\n",
    "\n",
    "            herbicide1_ = selectiveSurvival(cult,[fSS,fRS,fRR],targetLocus,Params.key)\n",
    "\n",
    "            herbicide1 = extinction(herbicide1_,fieldSize)\n",
    "\n",
    "            # fSS = 1 - Params.Herbicide2.efficacy_SS[y,c]\n",
    "            # fRS = 1 - Params.Herbicide2.efficacy_RS[y,c]\n",
    "            # fRR = 1 - Params.Herbicide2.efficacy_RR[y,c]\n",
    "\n",
    "            fSS = 1 - H2_eff[0]\n",
    "            fRS = 1 - H2_eff[1]\n",
    "            fRR = 1 - H2_eff[2]\n",
    "\n",
    "            targetLocus = Params.Herbicide2.targetLocus\n",
    "\n",
    "            herbicide2 = selectiveSurvival(herbicide1,[fSS,fRS,fRR],targetLocus,Params.key)\n",
    "                    \n",
    "            herbicide2 = extinction(herbicide2,fieldSize)\n",
    "\n",
    "            fSS = 1 - H3_eff[0]\n",
    "            fRS = 1 - H3_eff[1]\n",
    "            fRR = 1 - H3_eff[2]\n",
    "\n",
    "            targetLocus = Params.Herbicide3.targetLocus\n",
    "\n",
    "            herbicide3 = selectiveSurvival(herbicide2,[fSS,fRS,fRR],targetLocus,Params.key)\n",
    "            herbicide3 = extinction(herbicide3,fieldSize)\n",
    "\n",
    "            fSS = 1 - H4_eff[0]\n",
    "            fRS = 1 - H4_eff[1]\n",
    "            fRR = 1 - H4_eff[2]\n",
    "\n",
    "            targetLocus = Params.Herbicide4.targetLocus\n",
    "\n",
    "            herbicide4 = selectiveSurvival(herbicide3,[fSS,fRS,fRR],targetLocus,Params.key)\n",
    "            herbicide4 = extinction(herbicide4,fieldSize)\n",
    "\n",
    "            A = Params.Mature.maxplants[y,c]\n",
    "            B = Params.Mature.cropParam[y,c]\n",
    "            C = Params.Mature.weedCompetition[y,c]\n",
    "\n",
    "            mature = competition(herbicide4,A,B,C)\n",
    "            mature = extinction(mature,fieldSize)\n",
    "            fHand = Params.Hand.survivalFraction[y,c]\n",
    "\n",
    "            hand = survival(mature,fHand)\n",
    "            hand = extinction(hand,fieldSize)\n",
    "            \n",
    "            A = Params.SeedProd.maxyield[y,c]\n",
    "            B = Params.SeedProd.cropParam[y,c]\n",
    "            C = Params.SeedProd.weedCompetition[y,c]\n",
    "\n",
    "            sum_hand = float(np.sum(hand))\n",
    "            seedYield = competition(sum_hand,A,B,C)\n",
    "            \n",
    "            newFrac = mating(hand,Params.General.selfingCoeff, Params.key)\n",
    "            seedProd= newFrac*seedYield*Params.General.femaleFrac\n",
    "            seedProd = extinction(seedProd,fieldSize)\n",
    "\n",
    "            targetLocus = 1\n",
    "            muS2R = Params.Mutation.muS2R_locus1[y,c]\n",
    "            muR2S = Params.Mutation.muR2S_locus1[y,c]\n",
    "        \n",
    "            if muS2R==0 and muR2S==0:\n",
    "                mutated_locus1 = seedProd\n",
    "            else:\n",
    "                mutated_locus1 = mutation(seedProd,muS2R,muR2S,targetLocus,Params.key)\n",
    "                mutated_locus1 = extinction(mutated_locus1,fieldSize)\n",
    "\n",
    "            targetLocus = 2\n",
    "            muS2R = Params.Mutation.muS2R_locus2[y,c]\n",
    "            muR2S = Params.Mutation.muR2S_locus2[y,c]\n",
    "\n",
    "            if muS2R==0 and muR2S==0:\n",
    "                mutated_locus2 = mutated_locus1\n",
    "            else:\n",
    "                mutated_locus2 = mutation(mutated_locus1,muS2R,muR2S,targetLocus,Params.key)\n",
    "                mutated_locus2 = extinction(mutated_locus2,fieldSize)\n",
    "\n",
    "            targetLocus = 3\n",
    "            muS2R = Params.Mutation.muS2R_locus3[y,c]\n",
    "            muR2S = Params.Mutation.muR2S_locus3[y,c]\n",
    "\n",
    "            if muS2R==0 and muR2S==0:\n",
    "                mutated_locus3 = mutated_locus2\n",
    "            else:\n",
    "                mutated_locus3 = mutation(mutated_locus2,muS2R,muR2S,targetLocus,Params.key)\n",
    "                mutated_locus3 = extinction(mutated_locus3,fieldSize)\n",
    "\n",
    "            targetLocus = 4\n",
    "            muS2R = Params.Mutation.muS2R_locus4[y,c]\n",
    "            muR2S = Params.Mutation.muR2S_locus4[y,c]\n",
    "\n",
    "            if muS2R==0 and muR2S==0:\n",
    "                mutated_locus4 = mutated_locus3\n",
    "            else:\n",
    "                mutated_locus4 = mutation(mutated_locus3,muS2R,muR2S,targetLocus,Params.key)\n",
    "                mutated_locus4 = extinction(mutated_locus4,fieldSize)\n",
    "\n",
    "            fPred = Params.Predation.survivalFraction[y,c]\n",
    "            predation = survival(mutated_locus4,fPred)\n",
    "            predation = extinction(predation,fieldSize)\n",
    "\n",
    "\n",
    "            # print(predation) \n",
    "            if Params.General.seedDelay == 0:\n",
    "                if c < nCohorts-1:\n",
    "                    Population.seedBank[y,:,c+1] = Population.seedBank[y,:,c+1] + predation + ungerminated\n",
    "                else:\n",
    "                    tempSeedBank = tempSeedBank + ungerminated + predation\n",
    "            else:\n",
    "                tempSeedBank = tempSeedBank + predation\n",
    "                if c < nCohorts:\n",
    "\n",
    "                    Population.seedBank[y,:,c+1] = Population.seedBank[y,:,c+1] + ungerminated\n",
    "                else:\n",
    "                    tempSeedBank = tempSeedBank + ungerminated\n",
    "\n",
    "            Population.immSeed[y,:,c] = ImmSeed\n",
    "            Population.ungerminated[y,:,c] = ungerminated\n",
    "            Population.germination[y,:,c] = germination\n",
    "            Population.herbicide1[y,:,c] = herbicide1\n",
    "            Population.herbicide2[y,:,c] = herbicide2\n",
    "            # Population.herbicide3[y,:,c] = herbicide3\n",
    "            # Population.herbicide4[y,:,c] = herbicide4\n",
    "            Population.mature[y,:,c] = mature\n",
    "            Population.hand[y,:,c] = hand\n",
    "            Population.seedProd[y,:,c] = seedProd\n",
    "            Population.predation[y,:,c] = predation\n",
    "            \n",
    "        if y != nYears-1:\n",
    "            fWint_upper = Params.Winter.uppersurvivalFraction[y][c]\n",
    "            fWint_lower = Params.Winter.lowersurvivalFraction[y][c]\n",
    "\n",
    "            winter_ = survival(tempSeedBank,fWint_upper)\n",
    "            winter = extinction(winter_,fieldSize)\n",
    "\n",
    "            Population.winter[y,:] = winter\n",
    "            Population.seedBank[y+1,:,0] = Population.seedBank[y+1,:,0] + winter\n",
    "            Population.lowerBank[y+1,:] = survival(Population.lowerBank[y,:],fWint_lower)\n",
    "            Population.lowerBank[y+1,:] = extinction(Population.lowerBank[y+1,:],fieldSize)\n",
    "\n",
    "        else:\n",
    "            break\n",
    "        N = nYears*nCohorts\n",
    "\n",
    "    newPop = np.zeros((N,nGeno))\n",
    "\n",
    "    k = 0\n",
    "    for y in range(nYears):\n",
    "        for c in range(nCohorts):\n",
    "            newPop[k,:] = Population.seedBank[y,:,c]\n",
    "            k = k + 1\n",
    "\n",
    "\n",
    "    Rpop = np.zeros(nYears*nCohorts,)\n",
    "    for G in range(nGeno):\n",
    "        for L in range(nLoci):\n",
    "            if Params.key[L,G] == 2 or Params.key[L,G] == 1:\n",
    "                Rpop =  Rpop + newPop[:,G]\n",
    "                break\n",
    "            \n",
    "    pltPop = Rpop/np.sum(newPop, axis=1)\n",
    "    # print(pltPop.shape)\n",
    "\n",
    "    if sum(pltPop[-5:-1]) > .2:\n",
    "        strategies.append(pltPop)\n",
    "        overall.append(pltPop)\n",
    "        seedbank_plot.append(np.sum(newPop, axis=1))\n",
    "        risk_integral_all.append(integrate.trapezoid(pltPop)/N)\n",
    "        \n",
    "        a+=1\n",
    "        if a % 20 == 0 or i == 999:\n",
    "            print(\"total fish caught: \", a)\n",
    "    else:\n",
    "        overall.append(pltPop)\n",
    "        risk_integral_all.append(integrate.trapezoid(pltPop)/N)\n",
    "        seedbank_plot.append(np.sum(newPop, axis=1))\n",
    "\n",
    "\n"
   ]
  },
  {
   "cell_type": "code",
   "execution_count": 4,
   "metadata": {},
   "outputs": [
    {
     "data": {
      "text/plain": [
       "15"
      ]
     },
     "execution_count": 4,
     "metadata": {},
     "output_type": "execute_result"
    }
   ],
   "source": [
    "a"
   ]
  },
  {
   "cell_type": "code",
   "execution_count": 5,
   "metadata": {},
   "outputs": [
    {
     "data": {
      "text/plain": [
       "0.11741967884059103"
      ]
     },
     "execution_count": 5,
     "metadata": {},
     "output_type": "execute_result"
    }
   ],
   "source": [
    "np.mean([i for i in risk_integral_all])"
   ]
  },
  {
   "cell_type": "code",
   "execution_count": 6,
   "metadata": {},
   "outputs": [],
   "source": [
    "import seaborn as sns\n",
    "import matplotlib.pyplot as plt\n",
    "strategies = seedbank_plot\n",
    "\n",
    "strategies = np.array(strategies)\n",
    "strategy = np.mean(strategies, axis=0)\n",
    "\n",
    "dev = np.std(strategies, axis = 0)\n",
    "\n"
   ]
  },
  {
   "cell_type": "code",
   "execution_count": 7,
   "metadata": {},
   "outputs": [
    {
     "data": {
      "text/plain": [
       "[<matplotlib.lines.Line2D at 0x1bea7f6bd00>]"
      ]
     },
     "execution_count": 7,
     "metadata": {},
     "output_type": "execute_result"
    },
    {
     "data": {
      "image/png": "[encoded data removed]",
      "text/plain": [
       "<Figure size 432x288 with 1 Axes>"
      ]
     },
     "metadata": {
      "needs_background": "light"
     },
     "output_type": "display_data"
    }
   ],
   "source": [
    "x = np.array([i for i in range(len(strategy))])/nCohorts\n",
    "\n",
    "\n",
    "\n",
    "plt.plot(x,np.sum(newPop, axis=1))\n",
    "# plt.plot(x,y)\n"
   ]
  },
  {
   "cell_type": "code",
   "execution_count": 8,
   "metadata": {},
   "outputs": [
    {
     "data": {
      "text/plain": [
       "array([1.00000000e+00, 2.01093145e+02, 2.73350315e+04, 9.51256448e+05,\n",
       "       1.40743083e+06, 2.44607580e+06, 2.40425118e+06, 3.39487801e+06,\n",
       "       3.03570560e+06, 3.99530847e+06, 3.43519299e+06, 4.37507604e+06,\n",
       "       3.68784316e+06, 4.61523553e+06, 3.84761106e+06, 4.76710175e+06,\n",
       "       3.94864106e+06, 4.86313589e+06, 4.01252920e+06, 4.92386648e+06,\n",
       "       4.05293222e+06, 4.96227470e+06, 4.07848586e+06, 4.98656923e+06,\n",
       "       4.09465109e+06, 5.00194126e+06, 4.10488162e+06, 5.01167413e+06,\n",
       "       4.11136196e+06, 5.01784466e+06, 4.11547379e+06, 5.02176604e+06,\n",
       "       4.11809043e+06, 5.02426757e+06, 4.11976294e+06, 5.02587179e+06,\n",
       "       4.12083819e+06, 5.02690726e+06, 4.12153426e+06, 5.02758072e+06,\n",
       "       4.12198859e+06, 5.02802295e+06, 4.12228841e+06, 5.02831736e+06,\n",
       "       4.12248950e+06, 5.02851746e+06, 4.12262768e+06, 5.02865749e+06,\n",
       "       4.12272571e+06, 5.02875891e+06])"
      ]
     },
     "execution_count": 8,
     "metadata": {},
     "output_type": "execute_result"
    }
   ],
   "source": [
    "# len(risk_integral_all)\n",
    "strategy"
   ]
  },
  {
   "cell_type": "code",
   "execution_count": 9,
   "metadata": {},
   "outputs": [],
   "source": [
    "result_dict = {}\n",
    "avg_std = {}\n",
    "avg_std['average'] = strategy\n",
    "avg_std['std'] = dev\n",
    "\n",
    "# molecule = {}\n",
    "\n",
    "# dose = {}\n",
    "\n",
    "# dose['combined'] = avg_std\n",
    "\n",
    "# molecule['x713'] = dose\n",
    "\n",
    "\n",
    "\n",
    "\n",
    "\n",
    "import pickle as pkl\n",
    "# create a binary pickle file \n",
    "# f = open(\"x713_25_50.pkl\",\"wb\")\n",
    "# f = pkl.load( open( \"x755_50_pop.pkl\", \"rb\" ) )\n",
    "\n",
    "result_dict['x755_50_chohort_2'] = avg_std\n",
    "## write the python object (dict) to pickle file\n",
    "pkl.dump( result_dict, open( \"x755_50_pop_cohort_2.pkl\", \"wb\" ) )\n",
    "\n",
    "# close file\n",
    "# f.close()\n",
    "\n",
    "\n",
    "\n",
    "\n",
    "\n"
   ]
  },
  {
   "cell_type": "code",
   "execution_count": 10,
   "metadata": {},
   "outputs": [
    {
     "data": {
      "text/plain": [
       "{'x755_50': {'average': array([1.00000000e+00, 1.40760800e+02, 1.93344479e+04, 6.18222017e+05,\n",
       "         1.18354857e+06, 1.56279606e+06, 1.81588300e+06, 1.98457846e+06,\n",
       "         2.09697383e+06, 2.17184649e+06, 2.22172241e+06, 2.25494957e+06,\n",
       "         2.27708866e+06, 2.29184278e+06, 2.30167770e+06, 2.30823538e+06,\n",
       "         2.31260936e+06, 2.31552805e+06, 2.31747677e+06, 2.31877896e+06,\n",
       "         2.31965024e+06, 2.32023442e+06, 2.32062743e+06, 2.32089321e+06,\n",
       "         2.32107434e+06]),\n",
       "  'std': array([0.00000000e+00, 7.15165511e-02, 3.13115563e+01, 6.51049984e+02,\n",
       "         4.93293815e+02, 3.84932172e+02, 3.27874004e+02, 3.13196641e+02,\n",
       "         3.33520258e+02, 3.82613657e+02, 4.54286824e+02, 5.41836518e+02,\n",
       "         6.38243515e+02, 7.36879220e+02, 8.32287409e+02, 9.20646770e+02,\n",
       "         9.99772634e+02, 1.06883747e+03, 1.12796400e+03, 1.17786847e+03,\n",
       "         1.21958556e+03, 1.25431555e+03, 1.28335298e+03, 1.30803402e+03,\n",
       "         1.32965439e+03])}}"
      ]
     },
     "execution_count": 10,
     "metadata": {},
     "output_type": "execute_result"
    }
   ],
   "source": [
    "f = pkl.load( open( \"x755_50_pop.pkl\", \"rb\" ) )\n",
    "f"
   ]
  },
  {
   "cell_type": "code",
   "execution_count": 9,
   "metadata": {},
   "outputs": [
    {
     "data": {
      "text/plain": [
       "[<matplotlib.lines.Line2D at 0x2194bbca190>]"
      ]
     },
     "execution_count": 9,
     "metadata": {},
     "output_type": "execute_result"
    },
    {
     "data": {
      "image/png": "[encoded data removed]",
      "text/plain": [
       "<Figure size 432x288 with 1 Axes>"
      ]
     },
     "metadata": {
      "needs_background": "light"
     },
     "output_type": "display_data"
    }
   ],
   "source": [
    "lower = strategy - dev\n",
    "upper = strategy + dev \n",
    "\n",
    "\n",
    "\n",
    "plt.fill_between([x+1 for x in range(len(strategy))], lower, upper, alpha=.3)\n",
    "plt.plot([x+1 for x in range(len(strategy))], strategy)\n",
    "# plt.ylim([-0.10,1.1])"
   ]
  }
 ],
 "metadata": {
  "kernelspec": {
   "display_name": "Python 3",
   "language": "python",
   "name": "python3"
  },
  "language_info": {
   "codemirror_mode": {
    "name": "ipython",
    "version": 3
   },
   "file_extension": ".py",
   "mimetype": "text/x-python",
   "name": "python",
   "nbconvert_exporter": "python",
   "pygments_lexer": "ipython3",
   "version": "3.9.12"
  },
  "orig_nbformat": 4,
  "vscode": {
   "interpreter": {
    "hash": "e7370f93d1d0cde622a1f8e1c04877d8463912d04d973331ad4851f04de6915a"
   }
  }
 },
 "nbformat": 4,
 "nbformat_minor": 2
}
