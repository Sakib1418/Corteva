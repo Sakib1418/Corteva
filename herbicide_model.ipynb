{
 "cells": [
  {
   "cell_type": "code",
   "execution_count": 1,
   "metadata": {},
   "outputs": [],
   "source": [
    "import pandas as pd \n",
    "import numpy as np\n",
    "import math\n",
    "from utlis import *\n",
    "\n",
    "\n",
    "tmp = pd.read_csv('Weed_Resistance_Data.csv', sep = ',', header=None)\n",
    "params_in = list(tmp[:21][0])\n",
    "\n",
    "\n",
    "params_in = np.array(params_in)"
   ]
  },
  {
   "cell_type": "code",
   "execution_count": 2,
   "metadata": {},
   "outputs": [],
   "source": [
    "General_TillingFrequency = np.loadtxt('Corteva/BMP_Matlab_Code/Tilling_Data.txt')\n",
    "Herbicide_data = np.loadtxt('Corteva/BMP_Matlab_Code/Herbicide_Data.txt')"
   ]
  },
  {
   "cell_type": "code",
   "execution_count": 3,
   "metadata": {},
   "outputs": [
    {
     "name": "stdout",
     "output_type": "stream",
     "text": [
      "starting year and cohort are:  25  &  2\n"
     ]
    }
   ],
   "source": [
    "from utlis import PrepareParams\n",
    "import numpy as np \n",
    "from scipy import integrate\n",
    "\n",
    "\n",
    "\n",
    "\n",
    "a = 1\n",
    "Params = PrepareParams()\n",
    "\n",
    "nYears = int(Params.General.nYears)\n",
    "nCohorts = int(Params.General.nCohorts)\n",
    "\n",
    "# nYears = 25\n",
    "# nCohorts = 2\n",
    "print(\"starting year and cohort are: \", nYears, \" & \", nCohorts)\n",
    "\n",
    "H1_eff = [.99,.5,.1]\n",
    "H2_eff = [.9,.8,.2]\n",
    "H3_eff = [0,0,0]\n",
    "H4_eff = [0,0,0]\n",
    "\n",
    "strategies = []\n",
    "overall = []\n",
    "risk_integral_all = []\n",
    "\n",
    "\n",
    "for i in range(50):\n",
    "    Population.seedBank = np.zeros((nYears,nGeno,nCohorts))\n",
    "    # %Lower seed bank density\n",
    "    Population.lowerBank = np.zeros((nYears,nGeno))\n",
    "    # %immigrant seed\n",
    "    Population.immSeed = np.zeros((nYears,nGeno,nCohorts))\n",
    "    # %emigrant seed\n",
    "    Population.emSeed = np.zeros((nYears,nGeno,nCohorts))\n",
    "    # %germination storage\n",
    "    Population.germination = np.zeros((nYears,nGeno,nCohorts))\n",
    "    # %ungerminated storage\n",
    "    Population.ungerminated = np.zeros((nYears,nGeno,nCohorts))\n",
    "    Population.herbicide1 = np.zeros((nYears,nGeno,nCohorts))\n",
    "    Population.herbicide2 = np.zeros((nYears,nGeno,nCohorts))\n",
    "    Population.herbicide3 = np.zeros((nYears,nGeno,nCohorts))\n",
    "    Population.herbicide4 = np.zeros((nYears,nGeno,nCohorts))\n",
    "    Population.seedProd = np.zeros((nYears,nGeno,nCohorts))\n",
    "    Population.mature = np.zeros((nYears,nGeno,nCohorts))\n",
    "    Population.hand = np.zeros((nYears,nGeno,nCohorts))\n",
    "    Population.immPol = np.zeros((nYears,nGeno,nCohorts))\n",
    "    Population.emPol = np.zeros((nYears,nGeno,nCohorts))\n",
    "    Population.newSeed = np.zeros((nYears,nGeno,nCohorts))\n",
    "    Population.mutated = np.zeros((nYears,nGeno,nCohorts))\n",
    "    Population.predation = np.zeros((nYears,nGeno,nCohorts))\n",
    "    Population.winter = np.zeros((nYears,nGeno))\n",
    "    Population.Res = np.zeros((1, 3))\n",
    "    Population.seedBank[0,:,0] = Params.General.UpperSeedBank\n",
    "    Population.lowerBank[0,:] = Params.General.LowerSeedBank\n",
    "\n",
    "    for y in range(nYears):\n",
    "        tempSeedBank = np.zeros(81)\n",
    "        Population.seedBank[y,:,0],Population.lowerBank[y,:] = deepTill(Population.seedBank[y,:,0],\n",
    "                                                                    Population.lowerBank[y,:],\n",
    "                                                                    Params.General.TillingFreq,y)\n",
    "\n",
    "        for c in range(nCohorts):\n",
    "            # print(\" y : \", y, \" c\", c)\n",
    "            \n",
    "            ImmSeed = seedImmigration(nGeno)\n",
    "            seedBank = Population.seedBank[y,:,c]+ ImmSeed\n",
    "            seedBank = extinction(seedBank,fieldSize)\n",
    "            fGerm = Params.Germination.survivalFraction[0,0]\n",
    "            germination = survival(seedBank,fGerm)\n",
    "            ungerminated = seedBank - germination\n",
    "            germination = extinction(germination,fieldSize)\n",
    "            fCult = Params.Cultivation.survivalFraction[y,c]\n",
    "            cult = survival(germination,fCult)\n",
    "            cult = extinction(cult,fieldSize)\n",
    "\n",
    "            # fSS = 1 - Params.Herbicide1.efficacy_SS[0,0]\n",
    "            # fRS = 1 - Params.Herbicide1.efficacy_RS[0,0]\n",
    "            # fRR = 1 - Params.Herbicide1.efficacy_RR[0,0]\n",
    "\n",
    "            fSS = 1 - H1_eff[0]\n",
    "            fRS = 1 - H1_eff[1]\n",
    "            fRR = 1 - H1_eff[2]\n",
    "\n",
    "            targetLocus = Params.Herbicide1.targetLocus\n",
    "\n",
    "            herbicide1_ = selectiveSurvival(cult,[fSS,fRS,fRR],targetLocus,Params.key)\n",
    "\n",
    "            herbicide1 = extinction(herbicide1_,fieldSize)\n",
    "\n",
    "            # fSS = 1 - Params.Herbicide2.efficacy_SS[y,c]\n",
    "            # fRS = 1 - Params.Herbicide2.efficacy_RS[y,c]\n",
    "            # fRR = 1 - Params.Herbicide2.efficacy_RR[y,c]\n",
    "\n",
    "            fSS = 1 - H2_eff[0]\n",
    "            fRS = 1 - H2_eff[1]\n",
    "            fRR = 1 - H2_eff[2]\n",
    "\n",
    "            targetLocus = Params.Herbicide2.targetLocus\n",
    "\n",
    "            herbicide2 = selectiveSurvival(herbicide1,[fSS,fRS,fRR],targetLocus,Params.key)\n",
    "                    \n",
    "            herbicide2 = extinction(herbicide2,fieldSize)\n",
    "\n",
    "            fSS = 1 - H3_eff[0]\n",
    "            fRS = 1 - H3_eff[1]\n",
    "            fRR = 1 - H3_eff[2]\n",
    "\n",
    "            targetLocus = Params.Herbicide3.targetLocus\n",
    "\n",
    "            herbicide3 = selectiveSurvival(herbicide2,[fSS,fRS,fRR],targetLocus,Params.key)\n",
    "            herbicide3 = extinction(herbicide3,fieldSize)\n",
    "\n",
    "            fSS = 1 - H4_eff[0]\n",
    "            fRS = 1 - H4_eff[1]\n",
    "            fRR = 1 - H4_eff[2]\n",
    "\n",
    "            targetLocus = Params.Herbicide4.targetLocus\n",
    "\n",
    "            herbicide4 = selectiveSurvival(herbicide3,[fSS,fRS,fRR],targetLocus,Params.key)\n",
    "            herbicide4 = extinction(herbicide4,fieldSize)\n",
    "\n",
    "            A = Params.Mature.maxplants[y,c]\n",
    "            B = Params.Mature.cropParam[y,c]\n",
    "            C = Params.Mature.weedCompetition[y,c]\n",
    "\n",
    "            mature = competition(herbicide4,A,B,C)\n",
    "            mature = extinction(mature,fieldSize)\n",
    "            fHand = Params.Hand.survivalFraction[y,c]\n",
    "\n",
    "            hand = survival(mature,fHand)\n",
    "            hand = extinction(hand,fieldSize)\n",
    "            \n",
    "            A = Params.SeedProd.maxyield[y,c]\n",
    "            B = Params.SeedProd.cropParam[y,c]\n",
    "            C = Params.SeedProd.weedCompetition[y,c]\n",
    "\n",
    "            sum_hand = float(np.sum(hand))\n",
    "            seedYield = competition(sum_hand,A,B,C)\n",
    "            \n",
    "            newFrac = mating(hand,Params.General.selfingCoeff, Params.key)\n",
    "            seedProd= newFrac*seedYield*Params.General.femaleFrac\n",
    "            seedProd = extinction(seedProd,fieldSize)\n",
    "\n",
    "            targetLocus = 1\n",
    "            muS2R = Params.Mutation.muS2R_locus1[y,c]\n",
    "            muR2S = Params.Mutation.muR2S_locus1[y,c]\n",
    "        \n",
    "            if muS2R==0 and muR2S==0:\n",
    "                mutated_locus1 = seedProd\n",
    "            else:\n",
    "                mutated_locus1 = mutation(seedProd,muS2R,muR2S,targetLocus,Params.key)\n",
    "                mutated_locus1 = extinction(mutated_locus1,fieldSize)\n",
    "\n",
    "            targetLocus = 2\n",
    "            muS2R = Params.Mutation.muS2R_locus2[y,c]\n",
    "            muR2S = Params.Mutation.muR2S_locus2[y,c]\n",
    "\n",
    "            if muS2R==0 and muR2S==0:\n",
    "                mutated_locus2 = mutated_locus1\n",
    "            else:\n",
    "                mutated_locus2 = mutation(mutated_locus1,muS2R,muR2S,targetLocus,Params.key)\n",
    "                mutated_locus2 = extinction(mutated_locus2,fieldSize)\n",
    "\n",
    "            targetLocus = 3\n",
    "            muS2R = Params.Mutation.muS2R_locus3[y,c]\n",
    "            muR2S = Params.Mutation.muR2S_locus3[y,c]\n",
    "\n",
    "            if muS2R==0 and muR2S==0:\n",
    "                mutated_locus3 = mutated_locus2\n",
    "            else:\n",
    "                mutated_locus3 = mutation(mutated_locus2,muS2R,muR2S,targetLocus,Params.key)\n",
    "                mutated_locus3 = extinction(mutated_locus3,fieldSize)\n",
    "\n",
    "            targetLocus = 4\n",
    "            muS2R = Params.Mutation.muS2R_locus4[y,c]\n",
    "            muR2S = Params.Mutation.muR2S_locus4[y,c]\n",
    "\n",
    "            if muS2R==0 and muR2S==0:\n",
    "                mutated_locus4 = mutated_locus3\n",
    "            else:\n",
    "                mutated_locus4 = mutation(mutated_locus3,muS2R,muR2S,targetLocus,Params.key)\n",
    "                mutated_locus4 = extinction(mutated_locus4,fieldSize)\n",
    "\n",
    "            fPred = Params.Predation.survivalFraction[y,c]\n",
    "            predation = survival(mutated_locus4,fPred)\n",
    "            predation = extinction(predation,fieldSize)\n",
    "\n",
    "\n",
    "            # print(predation) \n",
    "            if Params.General.seedDelay == 0:\n",
    "                if c < nCohorts-1:\n",
    "                    Population.seedBank[y,:,c+1] = Population.seedBank[y,:,c+1] + predation + ungerminated\n",
    "                else:\n",
    "                    tempSeedBank = tempSeedBank + ungerminated + predation\n",
    "            else:\n",
    "                tempSeedBank = tempSeedBank + predation\n",
    "                if c < nCohorts:\n",
    "\n",
    "                    Population.seedBank[y,:,c+1] = Population.seedBank[y,:,c+1] + ungerminated\n",
    "                else:\n",
    "                    tempSeedBank = tempSeedBank + ungerminated\n",
    "\n",
    "            Population.immSeed[y,:,c] = ImmSeed\n",
    "            Population.ungerminated[y,:,c] = ungerminated\n",
    "            Population.germination[y,:,c] = germination\n",
    "            Population.herbicide1[y,:,c] = herbicide1\n",
    "            Population.herbicide2[y,:,c] = herbicide2\n",
    "            # Population.herbicide3[y,:,c] = herbicide3\n",
    "            # Population.herbicide4[y,:,c] = herbicide4\n",
    "            Population.mature[y,:,c] = mature\n",
    "            Population.hand[y,:,c] = hand\n",
    "            Population.seedProd[y,:,c] = seedProd\n",
    "            Population.predation[y,:,c] = predation\n",
    "            \n",
    "        if y != nYears-1:\n",
    "            fWint_upper = Params.Winter.uppersurvivalFraction[y][c]\n",
    "            fWint_lower = Params.Winter.lowersurvivalFraction[y][c]\n",
    "\n",
    "            winter_ = survival(tempSeedBank,fWint_upper)\n",
    "            winter = extinction(winter_,fieldSize)\n",
    "\n",
    "            Population.winter[y,:] = winter\n",
    "            Population.seedBank[y+1,:,0] = Population.seedBank[y+1,:,0] + winter\n",
    "            Population.lowerBank[y+1,:] = survival(Population.lowerBank[y,:],fWint_lower)\n",
    "            Population.lowerBank[y+1,:] = extinction(Population.lowerBank[y+1,:],fieldSize)\n",
    "\n",
    "        else:\n",
    "            break\n",
    "        N = nYears*nCohorts\n",
    "\n",
    "    newPop = np.zeros((N,nGeno))\n",
    "\n",
    "    k = 0\n",
    "    for y in range(nYears):\n",
    "        for c in range(nCohorts):\n",
    "            newPop[k,:] = Population.seedBank[y,:,c]\n",
    "            k = k + 1\n",
    "\n",
    "\n",
    "    Rpop = np.zeros(nYears*nCohorts,)\n",
    "    for G in range(nGeno):\n",
    "        for L in range(nLoci):\n",
    "            if Params.key[L,G] == 2 or Params.key[L,G] == 1:\n",
    "                Rpop =  Rpop + newPop[:,G]\n",
    "                break\n",
    "            \n",
    "    pltPop = Rpop/np.sum(newPop, axis=1)\n",
    "    # print(pltPop.shape)\n",
    "\n",
    "    if sum(pltPop[-5:-1]) > .2:\n",
    "        strategies.append(pltPop)\n",
    "        overall.append(pltPop)\n",
    "        risk_integral_all.append(integrate.trapezoid(pltPop)/N)\n",
    "        \n",
    "        a+=1\n",
    "        if a % 20 == 0 or i == 999:\n",
    "            print(\"total fish caught: \", a)\n",
    "    else:\n",
    "        overall.append(pltPop)\n",
    "        risk_integral_all.append(integrate.trapezoid(pltPop)/N)\n",
    "\n",
    "\n"
   ]
  },
  {
   "cell_type": "code",
   "execution_count": 4,
   "metadata": {},
   "outputs": [
    {
     "data": {
      "text/plain": [
       "array([1.00000000e+00, 2.00334256e+00, 2.80936297e+00, 5.62810876e+00,\n",
       "       7.89249910e+00, 1.58113179e+01, 2.21726668e+01, 4.44189590e+01,\n",
       "       6.22890999e+01, 1.24782544e+02, 1.74976673e+02, 3.50507725e+02,\n",
       "       4.91445276e+02, 9.84292706e+02, 1.37963767e+03, 2.76199263e+03,\n",
       "       3.86794461e+03, 7.73396342e+03, 1.08042228e+04, 2.15294093e+04,\n",
       "       2.98746628e+04, 5.89842200e+04, 8.04172130e+04, 1.55114284e+05,\n",
       "       2.02886678e+05, 3.72036544e+05, 4.50305315e+05, 7.60411032e+05,\n",
       "       8.31762785e+05, 1.28047868e+06, 1.27845731e+06, 1.82401154e+06,\n",
       "       1.70639531e+06, 2.30858634e+06, 2.06980642e+06, 2.70332290e+06,\n",
       "       2.35800044e+06, 3.00886931e+06, 2.57765192e+06, 3.23836375e+06,\n",
       "       2.74109083e+06, 3.40756365e+06, 2.86087710e+06, 3.53083402e+06,\n",
       "       2.94780965e+06, 3.61994020e+06, 3.01048625e+06, 3.68401104e+06,\n",
       "       3.05547370e+06, 3.72991415e+06])"
      ]
     },
     "execution_count": 4,
     "metadata": {},
     "output_type": "execute_result"
    }
   ],
   "source": [
    "np.sum(newPop, axis=1)"
   ]
  },
  {
   "cell_type": "code",
   "execution_count": 5,
   "metadata": {},
   "outputs": [
    {
     "data": {
      "text/plain": [
       "0.9406472384361159"
      ]
     },
     "execution_count": 5,
     "metadata": {},
     "output_type": "execute_result"
    }
   ],
   "source": [
    "np.mean([i for i in risk_integral_all if i > .001])"
   ]
  },
  {
   "cell_type": "code",
   "execution_count": 6,
   "metadata": {},
   "outputs": [],
   "source": [
    "import seaborn as sns\n",
    "import matplotlib.pyplot as plt\n",
    "\n",
    "\n",
    "strategies = np.array(strategies)\n",
    "strategy = np.mean(strategies, axis=0)\n",
    "\n",
    "dev = np.std(strategies, axis = 0)\n",
    "\n"
   ]
  },
  {
   "cell_type": "code",
   "execution_count": 12,
   "metadata": {},
   "outputs": [
    {
     "data": {
      "text/plain": [
       "[<matplotlib.lines.Line2D at 0x2953b443790>]"
      ]
     },
     "execution_count": 12,
     "metadata": {},
     "output_type": "execute_result"
    },
    {
     "data": {
      "image/png": "[encoded data removed]",
      "text/plain": [
       "<Figure size 432x288 with 1 Axes>"
      ]
     },
     "metadata": {
      "needs_background": "light"
     },
     "output_type": "display_data"
    }
   ],
   "source": [
    "x = np.array([i for i in range(len(strategy))])/nCohorts\n",
    "y = strategy\n",
    "\n",
    "\n",
    "# plt.plot(x,np.sum(newPop, axis=1))\n",
    "plt.plot(x,y)\n"
   ]
  },
  {
   "cell_type": "code",
   "execution_count": null,
   "metadata": {},
   "outputs": [
    {
     "data": {
      "text/plain": [
       "19.37912545040018"
      ]
     },
     "execution_count": 15,
     "metadata": {},
     "output_type": "execute_result"
    }
   ],
   "source": [
    "from scipy import integrate\n",
    "\n",
    "auc = integrate.trapezoid(y)\n",
    "auc"
   ]
  },
  {
   "cell_type": "code",
   "execution_count": null,
   "metadata": {},
   "outputs": [],
   "source": [
    "result_dict = {}\n",
    "avg_std = {}\n",
    "avg_std['average'] = strategy\n",
    "avg_std['std'] = dev\n",
    "\n",
    "# molecule = {}\n",
    "\n",
    "# dose = {}\n",
    "\n",
    "# dose['combined'] = avg_std\n",
    "\n",
    "# molecule['x713'] = dose\n",
    "\n",
    "\n",
    "\n",
    "\n",
    "\n",
    "import pickle as pkl\n",
    "# create a binary pickle file \n",
    "# f = open(\"x713_25_50.pkl\",\"wb\")\n",
    "f = pkl.load( open( \"all_4.pkl\", \"rb\" ) )\n",
    "\n",
    "f['combined'] = avg_std\n",
    "## write the python object (dict) to pickle file\n",
    "pkl.dump( f, open( \"all_4_nd_combined.pkl\", \"wb\" ) )\n",
    "\n",
    "# close file\n",
    "# f.close()\n",
    "\n",
    "\n",
    "\n",
    "\n",
    "\n"
   ]
  },
  {
   "cell_type": "code",
   "execution_count": null,
   "metadata": {},
   "outputs": [
    {
     "data": {
      "text/plain": [
       "(-0.1, 1.1)"
      ]
     },
     "execution_count": 8,
     "metadata": {},
     "output_type": "execute_result"
    },
    {
     "data": {
      "image/png": "[encoded data removed]",
      "text/plain": [
       "<Figure size 432x288 with 1 Axes>"
      ]
     },
     "metadata": {
      "needs_background": "light"
     },
     "output_type": "display_data"
    }
   ],
   "source": [
    "lower = strategy - dev\n",
    "upper = strategy + dev \n",
    "\n",
    "\n",
    "\n",
    "plt.fill_between([x+1 for x in range(len(strategy))], lower, upper, alpha=.3)\n",
    "plt.plot([x+1 for x in range(len(strategy))], strategy)\n",
    "plt.ylim([-0.10,1.1])"
   ]
  },
  {
   "cell_type": "code",
   "execution_count": null,
   "metadata": {},
   "outputs": [
    {
     "data": {
      "text/plain": [
       "{'x713': {'25_50': {'average': array([1.99999999e-08, 9.16361248e-04, 1.64762731e-03, 2.84014801e-03,\n",
       "          4.15163266e-03, 5.68638872e-03, 7.53808584e-03, 9.80721226e-03,\n",
       "          1.26105428e-02, 1.60871422e-02, 2.04032084e-02, 2.57561177e-02,\n",
       "          3.23773182e-02, 4.05332640e-02, 5.05232175e-02, 6.26724753e-02,\n",
       "          7.73195354e-02, 9.47960880e-02, 1.15399665e-01, 1.39360376e-01,\n",
       "          1.66805194e-01, 1.97725146e-01, 2.31951810e-01, 2.69148976e-01,\n",
       "          3.08823042e-01]),\n",
       "   'std': array([0.        , 0.00029688, 0.00053228, 0.00091636, 0.00133731,\n",
       "          0.00182802, 0.00241731, 0.00313532, 0.00401609, 0.00509876,\n",
       "          0.00642799, 0.00805371, 0.01002965, 0.01241054, 0.01524715,\n",
       "          0.01857905, 0.02242476, 0.02676999, 0.03155546, 0.03666717,\n",
       "          0.04193254, 0.04712629, 0.05198797, 0.05624993, 0.05967112])},\n",
       "  '50_81': {'average': array([1.99999999e-08, 9.75363102e-04, 3.56520063e-03, 1.26205261e-02,\n",
       "          3.22463787e-02, 6.48713168e-02, 1.09917900e-01, 1.62624802e-01,\n",
       "          2.16807279e-01, 2.67921081e-01, 3.14016705e-01, 3.55285235e-01,\n",
       "          3.93383149e-01, 4.30822329e-01, 4.70172151e-01, 5.12959228e-01,\n",
       "          5.58811046e-01, 6.05669022e-01, 6.51027094e-01, 6.93158303e-01,\n",
       "          7.31565514e-01, 7.66705116e-01, 7.99308873e-01, 8.29702864e-01,\n",
       "          8.57611677e-01]),\n",
       "   'std': array([0.        , 0.00108598, 0.00394895, 0.01390397, 0.03500929,\n",
       "          0.06882912, 0.11380583, 0.16508948, 0.21688161, 0.26454302,\n",
       "          0.30525221, 0.33749212, 0.36030322, 0.37291365, 0.3750204 ,\n",
       "          0.36758007, 0.35334475, 0.33622412, 0.31952436, 0.30438666,\n",
       "          0.28955077, 0.27239688, 0.25067797, 0.22406673, 0.19436426])}},\n",
       " 'x755': {'50_81': {'average': array([1.99999999e-08, 2.21678390e-03, 8.06358212e-03, 2.82574177e-02,\n",
       "          7.01884681e-02, 1.34604593e-01, 2.15139505e-01, 3.00947906e-01,\n",
       "          3.82968709e-01, 4.56290297e-01, 5.19437097e-01, 5.73011005e-01,\n",
       "          6.18697540e-01, 6.58637392e-01, 6.94882091e-01, 7.28814019e-01,\n",
       "          7.60814836e-01, 7.90508728e-01, 8.17365737e-01, 8.41165427e-01,\n",
       "          8.62118086e-01, 8.80731933e-01, 8.97546864e-01, 9.12872328e-01,\n",
       "          9.26721351e-01]),\n",
       "   'std': array([0.        , 0.00136822, 0.00495742, 0.01723107, 0.04187685,\n",
       "          0.07765701, 0.11967365, 0.16233865, 0.20198495, 0.23664389,\n",
       "          0.26528886, 0.28727696, 0.30195794, 0.30858435, 0.30674296,\n",
       "          0.2971821 , 0.28221457, 0.26498376, 0.24807001, 0.23250808,\n",
       "          0.21770024, 0.20206941, 0.18415946, 0.16368011, 0.14170677])},\n",
       "  '25_55': {'average': array([1.99999999e-08, 8.68381554e-04, 1.73400744e-03, 3.32511093e-03,\n",
       "          5.25652792e-03, 7.68660396e-03, 1.08024472e-02, 1.48311433e-02,\n",
       "          2.00537575e-02, 2.68158694e-02, 3.55341080e-02, 4.66957525e-02,\n",
       "          6.08469332e-02, 7.85643414e-02, 1.00406448e-01, 1.26843971e-01,\n",
       "          1.58175918e-01, 1.94445617e-01, 2.35377446e-01, 2.80355523e-01,\n",
       "          3.28457749e-01, 3.78543515e-01, 4.29376804e-01, 4.79756050e-01,\n",
       "          5.28622901e-01]),\n",
       "   'std': array([0.        , 0.00030659, 0.00061007, 0.00116713, 0.00183878,\n",
       "          0.0026767 , 0.00373932, 0.00509367, 0.00681667, 0.00899319,\n",
       "          0.01170993, 0.01504374, 0.01904308, 0.02370305, 0.02893782,\n",
       "          0.03455856, 0.04026862, 0.04568671, 0.05040026, 0.05403812,\n",
       "          0.05633981, 0.05719841, 0.05666471, 0.0549169 , 0.05221117])}},\n",
       " '255': {},\n",
       " 'combined': {'average': array([1.99999999e-08, 2.41821394e-03, 4.81067541e-03, 9.43923692e-03,\n",
       "         1.52533590e-02, 2.24176310e-02, 3.14060758e-02, 4.27392194e-02,\n",
       "         5.69903046e-02, 7.47648841e-02, 9.66544046e-02, 1.23164288e-01,\n",
       "         1.54623376e-01, 1.91091539e-01, 2.32290576e-01, 2.77583803e-01,\n",
       "         3.26018153e-01, 3.76423005e-01, 4.27541721e-01, 4.78164127e-01,\n",
       "         5.27232921e-01, 5.73909474e-01, 6.17597826e-01, 6.57934993e-01,\n",
       "         6.94759589e-01]),\n",
       "  'std': array([0.        , 0.00049139, 0.00097644, 0.00190943, 0.00306932,\n",
       "         0.0044796 , 0.00621873, 0.00836277, 0.01098056, 0.01412162,\n",
       "         0.01779787, 0.02196174, 0.02648637, 0.03115675, 0.03568126,\n",
       "         0.03972813, 0.04298113, 0.0451985 , 0.04625543, 0.04615704,\n",
       "         0.04502106, 0.04304103, 0.04044407, 0.03745494, 0.03427189])}}"
      ]
     },
     "execution_count": 10,
     "metadata": {},
     "output_type": "execute_result"
    }
   ],
   "source": [
    "import pickle as pkl\n",
    "f = pkl.load( open( \"all_4_nd_combined.pkl\", \"rb\" ) )\n",
    "f"
   ]
  },
  {
   "cell_type": "code",
   "execution_count": null,
   "metadata": {},
   "outputs": [
    {
     "data": {
      "text/plain": [
       "{'x713': {'25_50': {'average': array([1.99999999e-08, 9.16361248e-04, 1.64762731e-03, 2.84014801e-03,\n",
       "          4.15163266e-03, 5.68638872e-03, 7.53808584e-03, 9.80721226e-03,\n",
       "          1.26105428e-02, 1.60871422e-02, 2.04032084e-02, 2.57561177e-02,\n",
       "          3.23773182e-02, 4.05332640e-02, 5.05232175e-02, 6.26724753e-02,\n",
       "          7.73195354e-02, 9.47960880e-02, 1.15399665e-01, 1.39360376e-01,\n",
       "          1.66805194e-01, 1.97725146e-01, 2.31951810e-01, 2.69148976e-01,\n",
       "          3.08823042e-01]),\n",
       "   'std': array([0.        , 0.00029688, 0.00053228, 0.00091636, 0.00133731,\n",
       "          0.00182802, 0.00241731, 0.00313532, 0.00401609, 0.00509876,\n",
       "          0.00642799, 0.00805371, 0.01002965, 0.01241054, 0.01524715,\n",
       "          0.01857905, 0.02242476, 0.02676999, 0.03155546, 0.03666717,\n",
       "          0.04193254, 0.04712629, 0.05198797, 0.05624993, 0.05967112])},\n",
       "  '50_81': {'average': array([1.99999999e-08, 9.75363102e-04, 3.56520063e-03, 1.26205261e-02,\n",
       "          3.22463787e-02, 6.48713168e-02, 1.09917900e-01, 1.62624802e-01,\n",
       "          2.16807279e-01, 2.67921081e-01, 3.14016705e-01, 3.55285235e-01,\n",
       "          3.93383149e-01, 4.30822329e-01, 4.70172151e-01, 5.12959228e-01,\n",
       "          5.58811046e-01, 6.05669022e-01, 6.51027094e-01, 6.93158303e-01,\n",
       "          7.31565514e-01, 7.66705116e-01, 7.99308873e-01, 8.29702864e-01,\n",
       "          8.57611677e-01]),\n",
       "   'std': array([0.        , 0.00108598, 0.00394895, 0.01390397, 0.03500929,\n",
       "          0.06882912, 0.11380583, 0.16508948, 0.21688161, 0.26454302,\n",
       "          0.30525221, 0.33749212, 0.36030322, 0.37291365, 0.3750204 ,\n",
       "          0.36758007, 0.35334475, 0.33622412, 0.31952436, 0.30438666,\n",
       "          0.28955077, 0.27239688, 0.25067797, 0.22406673, 0.19436426])}},\n",
       " 'x755': {'50_81': {'average': array([1.99999999e-08, 2.21678390e-03, 8.06358212e-03, 2.82574177e-02,\n",
       "          7.01884681e-02, 1.34604593e-01, 2.15139505e-01, 3.00947906e-01,\n",
       "          3.82968709e-01, 4.56290297e-01, 5.19437097e-01, 5.73011005e-01,\n",
       "          6.18697540e-01, 6.58637392e-01, 6.94882091e-01, 7.28814019e-01,\n",
       "          7.60814836e-01, 7.90508728e-01, 8.17365737e-01, 8.41165427e-01,\n",
       "          8.62118086e-01, 8.80731933e-01, 8.97546864e-01, 9.12872328e-01,\n",
       "          9.26721351e-01]),\n",
       "   'std': array([0.        , 0.00136822, 0.00495742, 0.01723107, 0.04187685,\n",
       "          0.07765701, 0.11967365, 0.16233865, 0.20198495, 0.23664389,\n",
       "          0.26528886, 0.28727696, 0.30195794, 0.30858435, 0.30674296,\n",
       "          0.2971821 , 0.28221457, 0.26498376, 0.24807001, 0.23250808,\n",
       "          0.21770024, 0.20206941, 0.18415946, 0.16368011, 0.14170677])},\n",
       "  '25_55': {'average': array([1.99999999e-08, 8.68381554e-04, 1.73400744e-03, 3.32511093e-03,\n",
       "          5.25652792e-03, 7.68660396e-03, 1.08024472e-02, 1.48311433e-02,\n",
       "          2.00537575e-02, 2.68158694e-02, 3.55341080e-02, 4.66957525e-02,\n",
       "          6.08469332e-02, 7.85643414e-02, 1.00406448e-01, 1.26843971e-01,\n",
       "          1.58175918e-01, 1.94445617e-01, 2.35377446e-01, 2.80355523e-01,\n",
       "          3.28457749e-01, 3.78543515e-01, 4.29376804e-01, 4.79756050e-01,\n",
       "          5.28622901e-01]),\n",
       "   'std': array([0.        , 0.00030659, 0.00061007, 0.00116713, 0.00183878,\n",
       "          0.0026767 , 0.00373932, 0.00509367, 0.00681667, 0.00899319,\n",
       "          0.01170993, 0.01504374, 0.01904308, 0.02370305, 0.02893782,\n",
       "          0.03455856, 0.04026862, 0.04568671, 0.05040026, 0.05403812,\n",
       "          0.05633981, 0.05719841, 0.05666471, 0.0549169 , 0.05221117])}},\n",
       " '255': {}}"
      ]
     },
     "execution_count": 9,
     "metadata": {},
     "output_type": "execute_result"
    }
   ],
   "source": [
    "f"
   ]
  }
 ],
 "metadata": {
  "kernelspec": {
   "display_name": "Python 3",
   "language": "python",
   "name": "python3"
  },
  "language_info": {
   "codemirror_mode": {
    "name": "ipython",
    "version": 3
   },
   "file_extension": ".py",
   "mimetype": "text/x-python",
   "name": "python",
   "nbconvert_exporter": "python",
   "pygments_lexer": "ipython3",
   "version": "3.9.12"
  },
  "orig_nbformat": 4,
  "vscode": {
   "interpreter": {
    "hash": "e7370f93d1d0cde622a1f8e1c04877d8463912d04d973331ad4851f04de6915a"
   }
  }
 },
 "nbformat": 4,
 "nbformat_minor": 2
}
